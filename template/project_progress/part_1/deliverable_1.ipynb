{
 "cells": [
  {
   "cell_type": "markdown",
   "id": "38d2ad7a",
   "metadata": {},
   "source": [
    "# Deliverable 1\n",
    "## TODO: idk where to use or where to put this sections of code"
   ]
  },
  {
   "cell_type": "code",
   "execution_count": 3,
   "id": "17d228d7",
   "metadata": {},
   "outputs": [
    {
     "name": "stderr",
     "output_type": "stream",
     "text": [
      "[nltk_data] Downloading package stopwords to\n",
      "[nltk_data]     /home/just_riccio/nltk_data...\n",
      "[nltk_data]   Package stopwords is already up-to-date!\n"
     ]
    },
    {
     "data": {
      "text/plain": [
       "True"
      ]
     },
     "execution_count": 3,
     "metadata": {},
     "output_type": "execute_result"
    }
   ],
   "source": [
    "import nltk\n",
    "from nltk.corpus import stopwords\n",
    "from nltk.stem import PorterStemmer\n",
    "from numpy import linalg as la\n",
    "\n",
    "nltk.download('stopwords')\n"
   ]
  },
  {
   "cell_type": "code",
   "execution_count": 4,
   "id": "65b9f84c",
   "metadata": {},
   "outputs": [],
   "source": [
    "def preprocess_text(text):\n",
    "    \"\"\"\n",
    "    Preprocess a text by tokenizing, lowercasing, removing stop words, and stemming.\n",
    "    TODO: add bonus points preprocessing (spelling correction, normalizing numbers, \n",
    "    synonym replacement / word normalization, etc.)\n",
    "    \"\"\"\n",
    "    \n",
    "    # Tokenize the text into words\n",
    "    tokens = nltk.word_tokenize(text)\n",
    "\n",
    "    # Convert to lowercase\n",
    "    tokens = [token.lower() for token in tokens]\n",
    "\n",
    "    # Remove stop words\n",
    "    stop_words = set(stopwords.words('english'))\n",
    "    tokens = [token for token in tokens if token not in stop_words]\n",
    "\n",
    "    # Stem the tokens\n",
    "    stemmer = PorterStemmer()\n",
    "    tokens = [stemmer.stem(token) for token in tokens]\n",
    "\n",
    "    return tokens\n",
    "\n",
    "def preprocess_document(document):\n",
    "    \"\"\"\n",
    "    For each textual part of the document, preprocess it\n",
    "    \"\"\"\n",
    "\n",
    "    document.processed_description = preprocess_text(document.description)\n",
    "    document.processed_title = preprocess_text(document.title)\n",
    "\n",
    "    return document\n"
   ]
  },
  {
   "cell_type": "markdown",
   "id": "d661b896",
   "metadata": {},
   "source": [
    "## Section 3\n",
    "Pros of keeping separate: end user can easily filter products (i.e. if category / sub-category / brand fully matches user filter, product is relevant, otherwise it's not)\n",
    "\n",
    "Cons of keeping separate: more computation to check general relevance of products\n",
    "\n",
    "Pros of merging: every aspect of the product helps with relevance (e.g. user can query (not filter) for brands, and the most relevant products will be the one with the user requested brands, but other products, which might still be useful for the user, could still be relevant)\n",
    "\n",
    "Cons of merging: you lose the option to filter\n",
    "\n",
    "\n",
    "Maybe some fields could be saved in the inverted index tree using one-hot encoding, to try a hybrid approach, depending on how one wants to build its retrieval engine"
   ]
  },
  {
   "cell_type": "markdown",
   "id": "86b3914a",
   "metadata": {},
   "source": [
    "## Section 4\n",
    "out_of_stock: boolean -> if it is out of stock, do not consider this product\n",
    "selling_price: numerical -> used to filer\n",
    "discount: numerical -> used to calculate new selling price then filter (could be split into two fields: is_discounted (boolean), discount_value (numerical))\n",
    "actual_price: numerical -> idk what this is\n",
    "average_rating: numerical -> filter"
   ]
  }
 ],
 "metadata": {
  "kernelspec": {
   "display_name": "Python 3",
   "language": "python",
   "name": "python3"
  },
  "language_info": {
   "codemirror_mode": {
    "name": "ipython",
    "version": 3
   },
   "file_extension": ".py",
   "mimetype": "text/x-python",
   "name": "python",
   "nbconvert_exporter": "python",
   "pygments_lexer": "ipython3",
   "version": "3.12.3"
  }
 },
 "nbformat": 4,
 "nbformat_minor": 5
}
